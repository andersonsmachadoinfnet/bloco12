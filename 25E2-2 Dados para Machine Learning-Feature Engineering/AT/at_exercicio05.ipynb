{
 "cells": [
  {
   "cell_type": "code",
   "execution_count": null,
   "id": "1602ddbf",
   "metadata": {},
   "outputs": [],
   "source": [
    "import os\n",
    "import tarfile\n",
    "import urllib.request\n",
    "import spacy\n",
    "import sklearn\n",
    "import nltk\n",
    "from nltk.corpus import stopwords\n",
    "from nltk.tokenize import word_tokenize\n",
    "from sklearn.datasets import load_files\n",
    "from sklearn.feature_extraction.text import ENGLISH_STOP_WORDS, CountVectorizer\n",
    "import string\n",
    "\n",
    "# Etapa 1: Baixar o dataset\n",
    "def download_and_extract_imdb(data_dir=\"aclImdb\"):\n",
    "    url = \"https://ai.stanford.edu/~amaas/data/sentiment/aclImdb_v1.tar.gz\"\n",
    "    filename = \"aclImdb_v1.tar.gz\"\n",
    "\n",
    "    if not os.path.exists(data_dir):\n",
    "        urllib.request.urlretrieve(url, filename)\n",
    "        with tarfile.open(filename, \"r:gz\") as tar:\n",
    "            tar.extractall()\n",
    "        os.remove(filename)\n",
    "    else:\n",
    "        print(\"Dataset já está disponível.\")\n",
    "\n",
    "\n",
    "download_and_extract_imdb()\n",
    "reviews_train = load_files(\"aclImdb/train/\")\n",
    "# load_files retorna um agrupamento, contendo textos de treinamento e rótulos de treinamento\n",
    "text_train, y_train = reviews_train.data, reviews_train.target\n",
    "print(\"type of text_train: {}\".format(type(text_train)))\n",
    "print(\"length of text_train: {}\".format(len(text_train)))\n",
    "print(\"text_train[6]:\\n{}\".format(text_train[6]))"
   ]
  },
  {
   "cell_type": "code",
   "execution_count": null,
   "id": "650b80e3",
   "metadata": {},
   "outputs": [],
   "source": [
    "# Item 5.a-Remova as stopwords das resenhas do dataset\n",
    "vect = CountVectorizer(min_df=5, stop_words=\"english\").fit(text_train)\n",
    "X_train = vect.transform(text_train)\n",
    "print(\"X_train with stop words:\\n{}\".format(repr(X_train)))"
   ]
  },
  {
   "cell_type": "code",
   "execution_count": null,
   "id": "220248b8",
   "metadata": {},
   "outputs": [],
   "source": [
    "en_nlp = spacy.load('en_core_web_sm')\n",
    "stemmer = nltk.stem.PorterStemmer()\n",
    "text_trainb = text_train[0].decode('utf-8')\n",
    "doc_spacy = en_nlp(text_trainb)\n",
    "# Item 5.b-Stemming\n",
    "print(\"Stemming:\")\n",
    "print([stemmer.stem(token.norm_.lower()) for token in doc_spacy])\n",
    "# Item 5.c-lemmatization\n",
    "print(\"Lemmatization:\")\n",
    "print([token.lemma_ for token in doc_spacy])"
   ]
  },
  {
   "cell_type": "code",
   "execution_count": null,
   "id": "7d54e785",
   "metadata": {},
   "outputs": [],
   "source": [
    "# Item 5.d-Bag-of_words\n",
    "bag_of_words = vect.transform(text_train)\n",
    "print(\"bag_of_words: {}\".format(repr(bag_of_words)))"
   ]
  },
  {
   "cell_type": "code",
   "execution_count": null,
   "id": "e060ead3",
   "metadata": {},
   "outputs": [],
   "source": [
    "# Item 5.e-Bag-of-n-Grams\n",
    "cv = CountVectorizer(ngram_range=(1, 3)).fit(text_train)\n",
    "print(\"Vocabulary size: {}\".format(len(cv.vocabulary_)))\n",
    "print(\"Vocabulary:\\n{}\".format(cv.get_feature_names()))"
   ]
  }
 ],
 "metadata": {
  "language_info": {
   "name": "python"
  }
 },
 "nbformat": 4,
 "nbformat_minor": 5
}
