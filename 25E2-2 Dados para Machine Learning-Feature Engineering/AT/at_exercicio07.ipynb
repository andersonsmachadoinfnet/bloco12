{
 "cells": [
  {
   "cell_type": "code",
   "execution_count": null,
   "id": "0997312e",
   "metadata": {},
   "outputs": [],
   "source": [
    "import pandas as pd\n",
    "from sklearn.preprocessing import LabelBinarizer,OneHotEncoder\n",
    "\n",
    "# Passo 1: Carregar o dataset\n",
    "def load_powerlifting_dataset():\n",
    "    url = \"data/openpowerlifting.csv\"\n",
    "    df = pd.read_csv(url)\n",
    "    print(\"Dataset carregado com sucesso.\")\n",
    "    return df\n",
    "\n",
    "# Passo 2: Selecionar colunas relevantes (exemplo)\n",
    "def preprocess_data(df):\n",
    "    df = df[['Sex', 'Equipment', 'Event', 'Division', 'Age', 'BodyweightKg', 'Best3SquatKg', 'Best3BenchKg', 'Best3DeadliftKg', 'TotalKg']]\n",
    "    df = df.dropna()\n",
    "    print(f\"Tamanho após remoção de NAs: {df.shape}\")\n",
    "    return df\n",
    "\n",
    "# Passo 3: Aplicar One-Hot Encoding\n",
    "def one_hot_encode(df):\n",
    "    categorical_cols = ['Sex', 'Equipment', 'Event', 'Division']\n",
    "    encoder = OneHotEncoder(sparse=False, drop='first') \n",
    "    encoded_array = encoder.fit_transform(df[categorical_cols])\n",
    "    encoded_df = pd.DataFrame(encoded_array, columns=encoder.get_feature_names_out(categorical_cols))\n",
    "    \n",
    "    df_encoded = pd.concat([df.drop(columns=categorical_cols).reset_index(drop=True), encoded_df], axis=1)\n",
    "    return df_encoded\n",
    "\n",
    "# Executar\n",
    "if __name__ == \"__main__\":\n",
    "    df_raw = load_powerlifting_dataset()\n",
    "    df_clean = preprocess_data(df_raw)\n",
    "    df_encoded = one_hot_encode(df_clean)\n",
    "\n",
    "    print(\"\\nExemplo de dados codificados com One-Hot Encoding:\")\n",
    "    print(df_encoded.head())\n"
   ]
  }
 ],
 "metadata": {
  "kernelspec": {
   "display_name": "base",
   "language": "python",
   "name": "python3"
  },
  "language_info": {
   "codemirror_mode": {
    "name": "ipython",
    "version": 3
   },
   "file_extension": ".py",
   "mimetype": "text/x-python",
   "name": "python",
   "nbconvert_exporter": "python",
   "pygments_lexer": "ipython3",
   "version": "3.13.2"
  }
 },
 "nbformat": 4,
 "nbformat_minor": 5
}
