{
 "cells": [
  {
   "cell_type": "code",
   "execution_count": 6,
   "id": "0997312e",
   "metadata": {},
   "outputs": [
    {
     "name": "stdout",
     "output_type": "stream",
     "text": [
      "\n",
      "Amostra após One-Hot Encoding:\n",
      "   Sex_F  Sex_M  Event_B  Event_BD  Event_D  Event_S  Equipment_Raw  \\\n",
      "0   True  False     True     False    False    False           True   \n",
      "1   True  False     True     False    False    False           True   \n",
      "2   True  False     True     False    False    False           True   \n",
      "3   True  False     True     False    False    False           True   \n",
      "4   True  False     True     False    False    False           True   \n",
      "\n",
      "   Equipment_Wraps  Federation_GSF-Belarus  Federation_WPFG  ...  \\\n",
      "0            False                    True            False  ...   \n",
      "1            False                    True            False  ...   \n",
      "2            False                    True            False  ...   \n",
      "3            False                    True            False  ...   \n",
      "4            False                    True            False  ...   \n",
      "\n",
      "   WeightClassKg_110  WeightClassKg_125  WeightClassKg_125+  WeightClassKg_56  \\\n",
      "0              False              False               False             False   \n",
      "1              False              False               False             False   \n",
      "2              False              False               False             False   \n",
      "3              False              False               False             False   \n",
      "4              False              False               False             False   \n",
      "\n",
      "   WeightClassKg_60  WeightClassKg_67.5  WeightClassKg_75  WeightClassKg_82.5  \\\n",
      "0             False               False             False               False   \n",
      "1             False               False             False               False   \n",
      "2             False               False             False               False   \n",
      "3             False               False             False               False   \n",
      "4             False               False             False               False   \n",
      "\n",
      "   WeightClassKg_90  WeightClassKg_90+  \n",
      "0             False              False  \n",
      "1             False              False  \n",
      "2             False              False  \n",
      "3             False              False  \n",
      "4             False              False  \n",
      "\n",
      "[5 rows x 22 columns]\n"
     ]
    }
   ],
   "source": [
    "import pandas as pd\n",
    "from sklearn.preprocessing import LabelBinarizer,OneHotEncoder\n",
    "from patsy import dmatrix\n",
    "\n",
    "url = \"data/openpowerlifting.csv\"\n",
    "df = pd.read_csv(url)\n",
    "\n",
    "categorical_columns = ['Sex', 'Event', 'Equipment', 'Federation', 'WeightClassKg']\n",
    "df_selected = df[categorical_columns].copy()\n",
    "\n",
    "# 7.a-Vetorize as variáveis categóricas usando One-hot Encoding. Apresente os resultados obtidos\n",
    "df_encoded = pd.get_dummies(df_selected, columns=categorical_columns)\n",
    "print(\"\\nAmostra após One-Hot Encoding:\")\n",
    "print(df_encoded.head())"
   ]
  },
  {
   "cell_type": "code",
   "execution_count": null,
   "id": "d9601988",
   "metadata": {},
   "outputs": [
    {
     "name": "stdout",
     "output_type": "stream",
     "text": [
      "Formato original: (299, 5)\n",
      "Com One-Hot Encoding: (299, 22)\n",
      "Com Dummy Coding: (299, 17)\n"
     ]
    }
   ],
   "source": [
    "one_hot = pd.get_dummies(df_selected, columns=categorical_columns)\n",
    "\n",
    "dummy_coded = pd.get_dummies(df_selected, columns=categorical_columns, drop_first=True)\n",
    "# 7.b-Vetorize as variáveis categóricas usando Dummy Coding. Apresente os resultados obtidos\n",
    "print(f\"Formato original: {df_selected.shape}\")\n",
    "print(f\"Com One-Hot Encoding: {one_hot.shape}\")\n",
    "print(f\"Com Dummy Coding: {dummy_coded.shape}\")"
   ]
  },
  {
   "cell_type": "code",
   "execution_count": null,
   "id": "92828ebe",
   "metadata": {},
   "outputs": [
    {
     "name": "stdout",
     "output_type": "stream",
     "text": [
      "Formato original    : (299, 5)\n",
      "Com One-Hot Encoding: (299, 22)\n",
      "Com Dummy Coding    : (299, 17)\n",
      "Effect Coding       : (10, 2)\n"
     ]
    }
   ],
   "source": [
    "df_cat = df_selected[['Sex', 'Event']].dropna().head(10)  # para visualização, você pode aumentar depois\n",
    "\n",
    "effect_coded = dmatrix(\"C(Sex, Sum) + C(Event, Sum) - 1\", df_cat, return_type='dataframe')\n",
    "# 7.c-Vetorize as variáveis categóricas usando Effect Coding. Apresente os resultados obtidos\n",
    "print(f\"Formato original    : {df_selected.shape}\")\n",
    "print(f\"Com One-Hot Encoding: {one_hot.shape}\")\n",
    "print(f\"Com Dummy Coding    : {dummy_coded.shape}\")\n",
    "print(f\"Effect Coding       : {effect_coded.shape}\")"
   ]
  }
 ],
 "metadata": {
  "kernelspec": {
   "display_name": "base",
   "language": "python",
   "name": "python3"
  },
  "language_info": {
   "codemirror_mode": {
    "name": "ipython",
    "version": 3
   },
   "file_extension": ".py",
   "mimetype": "text/x-python",
   "name": "python",
   "nbconvert_exporter": "python",
   "pygments_lexer": "ipython3",
   "version": "3.13.2"
  }
 },
 "nbformat": 4,
 "nbformat_minor": 5
}
