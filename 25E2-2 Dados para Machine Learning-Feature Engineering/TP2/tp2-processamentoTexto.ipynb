{
 "cells": [
  {
   "cell_type": "code",
   "execution_count": 3,
   "id": "79159889",
   "metadata": {},
   "outputs": [],
   "source": [
    "texto=\"A alma é, pois, imortal; renasceu repetidas vezes na existência e contemplou todas as coisas existentes e por isso não há nada que ela não conheça! Não é de espantar que ela seja capaz de evocar à memória a lembrança de objetos que viu anteriormente, e que se relacionam tanto com a virtude como com as outras coisas existentes. Toda a natureza, com efeito, é uma só, é um todo orgânico, e o espírito já viu todas as coisas; logo, nada impede que ao nos lembrarmos de uma coisa – o que nós, homens, chamamos de “saber” – todas as outras coisas acorram imediata e maquinalmente à nossa consciência.\""
   ]
  },
  {
   "cell_type": "code",
   "execution_count": 7,
   "id": "7453b4b0",
   "metadata": {},
   "outputs": [
    {
     "name": "stdout",
     "output_type": "stream",
     "text": [
      "{'alma': 1, 'pois': 44, 'imortal': 25, 'renasceu': 48, 'repetidas': 49, 'vezes': 60, 'na': 34, 'existência': 21, 'contemplou': 13, 'todas': 56, 'as': 4, 'coisas': 8, 'existentes': 20, 'por': 45, 'isso': 27, 'não': 39, 'há': 23, 'nada': 35, 'que': 46, 'ela': 16, 'conheça': 11, 'de': 14, 'espantar': 17, 'seja': 52, 'capaz': 5, 'evocar': 19, 'memória': 33, 'lembrança': 29, 'objetos': 41, 'viu': 62, 'anteriormente': 2, 'se': 51, 'relacionam': 47, 'tanto': 54, 'com': 9, 'virtude': 61, 'como': 10, 'outras': 43, 'toda': 55, 'natureza': 36, 'efeito': 15, 'uma': 59, 'só': 53, 'um': 58, 'todo': 57, 'orgânico': 42, 'espírito': 18, 'já': 28, 'logo': 31, 'impede': 26, 'ao': 3, 'nos': 37, 'lembrarmos': 30, 'coisa': 7, 'nós': 40, 'homens': 22, 'chamamos': 6, 'saber': 50, 'acorram': 0, 'imediata': 24, 'maquinalmente': 32, 'nossa': 38, 'consciência': 12}\n"
     ]
    }
   ],
   "source": [
    "from sklearn.feature_extraction.text import CountVectorizer\n",
    "vect = CountVectorizer()\n",
    "vect.fit([texto])\n",
    "print(vect.vocabulary_) "
   ]
  }
 ],
 "metadata": {
  "kernelspec": {
   "display_name": "base",
   "language": "python",
   "name": "python3"
  },
  "language_info": {
   "codemirror_mode": {
    "name": "ipython",
    "version": 3
   },
   "file_extension": ".py",
   "mimetype": "text/x-python",
   "name": "python",
   "nbconvert_exporter": "python",
   "pygments_lexer": "ipython3",
   "version": "3.13.2"
  }
 },
 "nbformat": 4,
 "nbformat_minor": 5
}
