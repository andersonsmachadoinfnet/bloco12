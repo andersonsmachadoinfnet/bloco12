{
 "cells": [
  {
   "cell_type": "code",
   "execution_count": 33,
   "id": "8fe9cd2f",
   "metadata": {},
   "outputs": [],
   "source": [
    "import numpy\n",
    "import pandas as pd\n",
    "import seaborn\n",
    "import matplotlib.pyplot as plt\n",
    "from sklearn import model_selection, neighbors, metrics\n",
    "from sklearn.model_selection import StratifiedKFold\n",
    "from sklearn.metrics import accuracy_score, roc_auc_score, confusion_matrix\n",
    "from sklearn.neighbors import KNeighborsClassifier\n",
    "from sklearn.preprocessing import minmax_scale, StandardScaler, normalize\n",
    "\n",
    "# PARÂMETROS\n",
    "random_seed = 42\n",
    "\n",
    "# KNN\n",
    "ks = [k for k in range(1, 27, 2)]  # Número de vizinhos\n",
    "distance_metric = 'minkowski'  # euclidean, manhattan, chebyshev, minkowski\n",
    "weights = 'uniform'\n",
    "n_splits = 10  # Número de folds\n",
    "change_operation_point = False\n",
    "\n"
   ]
  },
  {
   "cell_type": "code",
   "execution_count": 23,
   "id": "5bde00c8",
   "metadata": {},
   "outputs": [
    {
     "name": "stdout",
     "output_type": "stream",
     "text": [
      "   HeartDisease\n",
      "0             0\n",
      "1             1\n",
      "2             0\n",
      "3             1\n",
      "4             0\n"
     ]
    }
   ],
   "source": [
    "#1.Carregamento de dados: Identificação de feature e target\n",
    "c = pd.read_csv(\"heart.csv\")\n",
    "features = c[['Age','Sex','ChestPainType','RestingBP','Cholesterol','FastingBS','RestingECG','MaxHR','ExerciseAngina','Oldpeak','ST_Slope']]\n",
    "target = c[['HeartDisease']]\n",
    "print(target.head())"
   ]
  },
  {
   "cell_type": "code",
   "execution_count": 27,
   "id": "d398c2a0",
   "metadata": {},
   "outputs": [
    {
     "name": "stdout",
     "output_type": "stream",
     "text": [
      "TREINAMENTO FEATURES:\n",
      "      Age Sex ChestPainType  RestingBP  Cholesterol  FastingBS RestingECG  \\\n",
      "795   42   M           NAP        120          240          1     Normal   \n",
      "25    36   M           NAP        130          209          0     Normal   \n",
      "84    56   M           ASY        150          213          1     Normal   \n",
      "10    37   F           NAP        130          211          0     Normal   \n",
      "344   51   M           ASY        120            0          1     Normal   \n",
      "..   ...  ..           ...        ...          ...        ...        ...   \n",
      "106   48   F           ASY        120          254          0         ST   \n",
      "270   45   M           ASY        120          225          0     Normal   \n",
      "860   60   M           ASY        130          253          0     Normal   \n",
      "435   60   M           ASY        152            0          0         ST   \n",
      "102   40   F           ASY        150          392          0     Normal   \n",
      "\n",
      "     MaxHR ExerciseAngina  Oldpeak ST_Slope    minmax    zscore    l2norm  \n",
      "795    194              N      0.8     Down  0.398010  0.376864  0.034914  \n",
      "25     178              N      0.0       Up  0.346600  0.093304  0.030404  \n",
      "84     125              Y      1.0     Flat  0.353234  0.129892  0.030986  \n",
      "10     142              N      0.0       Up  0.349917  0.111598  0.030695  \n",
      "344    104              N      0.0     Flat  0.000000 -1.818435  0.000000  \n",
      "..     ...            ...      ...      ...       ...       ...       ...  \n",
      "106    110              N      0.0       Up  0.421227  0.504923  0.036951  \n",
      "270    140              N      0.0       Up  0.373134  0.239657  0.032732  \n",
      "860    144              Y      1.4       Up  0.419569  0.495776  0.036805  \n",
      "435    118              Y      0.0       Up  0.000000 -1.818435  0.000000  \n",
      "102    130              N      2.0     Flat  0.650083  1.767219  0.057026  \n",
      "\n",
      "[734 rows x 14 columns] (734, 14)\n",
      "TREINAMENTO TARGET:\n",
      "      HeartDisease\n",
      "795             0\n",
      "25              0\n",
      "84              1\n",
      "10              0\n",
      "344             1\n",
      "..            ...\n",
      "106             0\n",
      "270             0\n",
      "860             1\n",
      "435             0\n",
      "102             1\n",
      "\n",
      "[734 rows x 1 columns] (734, 1)\n",
      "TESTE FEATURES:\n",
      "      Age Sex ChestPainType  RestingBP  Cholesterol  FastingBS RestingECG  \\\n",
      "668   63   F           ATA        140          195          0     Normal   \n",
      "30    53   M           NAP        145          518          0     Normal   \n",
      "377   65   M           ASY        160            0          1         ST   \n",
      "535   56   M           ASY        130            0          0        LVH   \n",
      "807   54   M           ATA        108          309          0     Normal   \n",
      "..   ...  ..           ...        ...          ...        ...        ...   \n",
      "211   50   F           NAP        140          288          0     Normal   \n",
      "745   63   F           ASY        108          269          0     Normal   \n",
      "584   64   M           ASY        141          244          1         ST   \n",
      "878   49   M           ATA        130          266          0     Normal   \n",
      "451   64   M           ASY        144            0          0         ST   \n",
      "\n",
      "     MaxHR ExerciseAngina  Oldpeak ST_Slope    minmax    zscore    l2norm  \n",
      "668    179              N      0.0       Up  0.323383 -0.034755  0.028368  \n",
      "30     130              N      0.0     Flat  0.859038  2.919751  0.075356  \n",
      "377    122              N      1.2     Flat  0.000000 -1.818435  0.000000  \n",
      "535    122              Y      1.0     Flat  0.000000 -1.818435  0.000000  \n",
      "807    156              N      0.0       Up  0.512438  1.008012  0.044952  \n",
      "..     ...            ...      ...      ...       ...       ...       ...  \n",
      "211    140              Y      0.0     Flat  0.477612  0.815923  0.041897  \n",
      "745    169              Y      1.8     Flat  0.446103  0.642129  0.039133  \n",
      "584    116              Y      1.5     Flat  0.404643  0.413452  0.035496  \n",
      "878    171              N      0.6       Up  0.441128  0.614688  0.038696  \n",
      "451    122              Y      1.0     Flat  0.000000 -1.818435  0.000000  \n",
      "\n",
      "[184 rows x 14 columns] (184, 14)\n",
      "TESTE TARGET:\n",
      "      HeartDisease\n",
      "668             0\n",
      "30              1\n",
      "377             1\n",
      "535             1\n",
      "807             0\n",
      "..            ...\n",
      "211             1\n",
      "745             1\n",
      "584             1\n",
      "878             0\n",
      "451             1\n",
      "\n",
      "[184 rows x 1 columns] (184, 1)\n"
     ]
    }
   ],
   "source": [
    "#2.Divisão de dados: Separe os dados em conjuntos de treino e validação\n",
    "train_f, test_f,train_t, test_t = model_selection.train_test_split (features, target, train_size=0.8, random_state=random_seed)\n",
    "print ('TREINAMENTO FEATURES:\\n', train_f, train_f.shape)\n",
    "print ('TREINAMENTO TARGET:\\n', train_t, train_t.shape)\n",
    "print ('TESTE FEATURES:\\n', test_f, test_f.shape)\n",
    "print ('TESTE TARGET:\\n', test_t, test_t.shape)"
   ]
  },
  {
   "cell_type": "code",
   "execution_count": 25,
   "id": "bad5ffbb",
   "metadata": {},
   "outputs": [
    {
     "name": "stdout",
     "output_type": "stream",
     "text": [
      "   Age Sex ChestPainType  RestingBP  Cholesterol  FastingBS RestingECG  MaxHR  \\\n",
      "0   40   M           ATA        140          289          0     Normal    172   \n",
      "1   49   F           NAP        160          180          0     Normal    156   \n",
      "2   37   M           ATA        130          283          0         ST     98   \n",
      "3   48   F           ASY        138          214          0     Normal    108   \n",
      "4   54   M           NAP        150          195          0     Normal    122   \n",
      "\n",
      "  ExerciseAngina  Oldpeak ST_Slope    minmax    zscore    l2norm  \n",
      "0              N      0.0       Up  0.479270  0.825070  0.042042  \n",
      "1              N      1.0     Flat  0.298507 -0.171961  0.026186  \n",
      "2              N      0.0       Up  0.469320  0.770188  0.041169  \n",
      "3              Y      1.5     Flat  0.354892  0.139040  0.031132  \n",
      "4              N      0.0       Up  0.323383 -0.034755  0.028368  \n"
     ]
    }
   ],
   "source": [
    "#3.Transformação de dados: Utilize transformadores do Scikit-Learn para ajustar e padronizar as variáveis dos dados\n",
    "Cholesterol= features[['Cholesterol']]\n",
    "features['minmax'] = minmax_scale(Cholesterol)\n",
    "features['zscore'] = StandardScaler().fit_transform(Cholesterol)\n",
    "features['l2norm'] = normalize(Cholesterol, axis=0)\n",
    "print(features.head())"
   ]
  },
  {
   "cell_type": "code",
   "execution_count": 29,
   "id": "b4d0fa08",
   "metadata": {},
   "outputs": [
    {
     "name": "stdout",
     "output_type": "stream",
     "text": [
      "[0 1 0 1 0 0 1 1 0 1 0 1 0 0 1 1 1 1 0 1 1 1 1 1 1 0 0 1 0 0 0 0 1 1 1 0 0\n",
      " 0 1 0 1 1 1 0 0 0 0 1 1 1 0 0 1 1 0 1 0 1 1 0 0 1 0 1 0 1 1 1 1 0 0 0 1 1\n",
      " 0 1 1 0 0 1 0 1 1 0 1 1 0 1 0 1 0 1 1 0 0 1 1 1 1 1 1 0 1 0 1 0 0 1 1 0 0\n",
      " 1 1 0 0 0 1 1 1 0 0 1 1 0 0 0 1 0 0 1 0 0 1 1 1 1 0 1 0 1 0 1 1 1 1 1 0 1\n",
      " 1 0 0 1 1 0 0 1 0 0 0 0 1 0 1 0 1 1 1 1 1 0 0 1 0 1 1 1 1 0 0 1 0 1 0 1]\n",
      "     HeartDisease\n",
      "668             0\n",
      "30              1\n",
      "377             1\n",
      "535             1\n",
      "807             0\n",
      "..            ...\n",
      "211             1\n",
      "745             1\n",
      "584             1\n",
      "878             0\n",
      "451             1\n",
      "\n",
      "[184 rows x 1 columns]\n"
     ]
    },
    {
     "name": "stderr",
     "output_type": "stream",
     "text": [
      "c:\\Users\\Ander\\miniconda3\\Lib\\site-packages\\sklearn\\neighbors\\_classification.py:239: DataConversionWarning: A column-vector y was passed when a 1d array was expected. Please change the shape of y to (n_samples,), for example using ravel().\n",
      "  return self._fit(X, y)\n"
     ]
    }
   ],
   "source": [
    "#4.Modelagem de K-Nearest Neighbors (KNN): Implemente o algoritmo KNN, compreendedo suas nuances e aplicabilidade\n",
    "features = c[['Age','RestingBP','Cholesterol','FastingBS','MaxHR','Oldpeak']]\n",
    "train_f, test_f,train_t, test_t = model_selection.train_test_split (features, target, train_size=0.8, random_state=random_seed)\n",
    "knn = neighbors.KNeighborsClassifier(n_neighbors=3)\n",
    "model = knn.fit (train_f, train_t)\n",
    "predicted_t = model.predict (test_f)\n",
    "print (predicted_t)\n",
    "print (test_t)"
   ]
  },
  {
   "cell_type": "code",
   "execution_count": 32,
   "id": "6957343a",
   "metadata": {},
   "outputs": [
    {
     "name": "stdout",
     "output_type": "stream",
     "text": [
      "Acurácia: 65.2%\n"
     ]
    }
   ],
   "source": [
    "#5.Avaliação do modelo: Avalie a qualidade do modelo desenvolvido usando acurária\n",
    "acuracia=metrics.accuracy_score (test_t, predicted_t)\n",
    "print(f\"Acurácia: {100.0*acuracia:.1f}%\")"
   ]
  },
  {
   "cell_type": "code",
   "execution_count": null,
   "id": "b4e37ed9",
   "metadata": {},
   "outputs": [
    {
     "name": "stdout",
     "output_type": "stream",
     "text": [
      "[1, 3, 5, 7, 9, 11, 13, 15, 17, 19, 21, 23, 25]\n"
     ]
    },
    {
     "name": "stderr",
     "output_type": "stream",
     "text": [
      "c:\\Users\\Ander\\miniconda3\\Lib\\site-packages\\sklearn\\neighbors\\_classification.py:239: DataConversionWarning: A column-vector y was passed when a 1d array was expected. Please change the shape of y to (n_samples,), for example using ravel().\n",
      "  return self._fit(X, y)\n",
      "c:\\Users\\Ander\\miniconda3\\Lib\\site-packages\\sklearn\\neighbors\\_classification.py:239: DataConversionWarning: A column-vector y was passed when a 1d array was expected. Please change the shape of y to (n_samples,), for example using ravel().\n",
      "  return self._fit(X, y)\n",
      "c:\\Users\\Ander\\miniconda3\\Lib\\site-packages\\sklearn\\neighbors\\_classification.py:239: DataConversionWarning: A column-vector y was passed when a 1d array was expected. Please change the shape of y to (n_samples,), for example using ravel().\n",
      "  return self._fit(X, y)\n",
      "c:\\Users\\Ander\\miniconda3\\Lib\\site-packages\\sklearn\\neighbors\\_classification.py:239: DataConversionWarning: A column-vector y was passed when a 1d array was expected. Please change the shape of y to (n_samples,), for example using ravel().\n",
      "  return self._fit(X, y)\n",
      "c:\\Users\\Ander\\miniconda3\\Lib\\site-packages\\sklearn\\neighbors\\_classification.py:239: DataConversionWarning: A column-vector y was passed when a 1d array was expected. Please change the shape of y to (n_samples,), for example using ravel().\n",
      "  return self._fit(X, y)\n",
      "c:\\Users\\Ander\\miniconda3\\Lib\\site-packages\\sklearn\\neighbors\\_classification.py:239: DataConversionWarning: A column-vector y was passed when a 1d array was expected. Please change the shape of y to (n_samples,), for example using ravel().\n",
      "  return self._fit(X, y)\n",
      "c:\\Users\\Ander\\miniconda3\\Lib\\site-packages\\sklearn\\neighbors\\_classification.py:239: DataConversionWarning: A column-vector y was passed when a 1d array was expected. Please change the shape of y to (n_samples,), for example using ravel().\n",
      "  return self._fit(X, y)\n",
      "c:\\Users\\Ander\\miniconda3\\Lib\\site-packages\\sklearn\\neighbors\\_classification.py:239: DataConversionWarning: A column-vector y was passed when a 1d array was expected. Please change the shape of y to (n_samples,), for example using ravel().\n",
      "  return self._fit(X, y)\n",
      "c:\\Users\\Ander\\miniconda3\\Lib\\site-packages\\sklearn\\neighbors\\_classification.py:239: DataConversionWarning: A column-vector y was passed when a 1d array was expected. Please change the shape of y to (n_samples,), for example using ravel().\n",
      "  return self._fit(X, y)\n",
      "c:\\Users\\Ander\\miniconda3\\Lib\\site-packages\\sklearn\\neighbors\\_classification.py:239: DataConversionWarning: A column-vector y was passed when a 1d array was expected. Please change the shape of y to (n_samples,), for example using ravel().\n",
      "  return self._fit(X, y)\n",
      "c:\\Users\\Ander\\miniconda3\\Lib\\site-packages\\sklearn\\neighbors\\_classification.py:239: DataConversionWarning: A column-vector y was passed when a 1d array was expected. Please change the shape of y to (n_samples,), for example using ravel().\n",
      "  return self._fit(X, y)\n",
      "c:\\Users\\Ander\\miniconda3\\Lib\\site-packages\\sklearn\\neighbors\\_classification.py:239: DataConversionWarning: A column-vector y was passed when a 1d array was expected. Please change the shape of y to (n_samples,), for example using ravel().\n",
      "  return self._fit(X, y)\n",
      "c:\\Users\\Ander\\miniconda3\\Lib\\site-packages\\sklearn\\neighbors\\_classification.py:239: DataConversionWarning: A column-vector y was passed when a 1d array was expected. Please change the shape of y to (n_samples,), for example using ravel().\n",
      "  return self._fit(X, y)\n"
     ]
    },
    {
     "data": {
      "image/png": "[encoded data removed]",
      "text/plain": [
       "<Figure size 640x480 with 1 Axes>"
      ]
     },
     "metadata": {},
     "output_type": "display_data"
    }
   ],
   "source": [
    "acuracias = []\n",
    "for k in ks:\n",
    "    knn = neighbors.KNeighborsClassifier(n_neighbors=k)\n",
    "    model = knn.fit (train_f, train_t)\n",
    "    predicted_t = model.predict (test_f)\n",
    "    acuracia = metrics.accuracy_score (test_t, predicted_t)\n",
    "    acuracias.append (acuracia)\n",
    "plt.plot (ks, acuracias)\n",
    "plt.xlabel (\"k\")\n",
    "plt.ylabel (\"Acuracia\")\n",
    "plt.show ()"
   ]
  }
 ],
 "metadata": {
  "kernelspec": {
   "display_name": "base",
   "language": "python",
   "name": "python3"
  },
  "language_info": {
   "codemirror_mode": {
    "name": "ipython",
    "version": 3
   },
   "file_extension": ".py",
   "mimetype": "text/x-python",
   "name": "python",
   "nbconvert_exporter": "python",
   "pygments_lexer": "ipython3",
   "version": "3.13.2"
  }
 },
 "nbformat": 4,
 "nbformat_minor": 5
}
